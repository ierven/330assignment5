{
 "cells": [
  {
   "cell_type": "markdown",
   "metadata": {
    "deletable": false,
    "editable": false,
    "nbgrader": {
     "cell_type": "markdown",
     "checksum": "75150320929abf964106f32d89d7a6c1",
     "grade": false,
     "grade_id": "cell-57eaf7d382b65804",
     "locked": true,
     "schema_version": 3,
     "solution": false,
     "task": false
    }
   },
   "source": [
    "# Assignment 5\n",
    "This week we're going to carry on from last week's work with the same groups and the same underlying data, Ann Arbor parking ticket data from here: https://github.com/cab938/a2tickets"
   ]
  },
  {
   "cell_type": "markdown",
   "metadata": {
    "deletable": false,
    "editable": false,
    "nbgrader": {
     "cell_type": "markdown",
     "checksum": "7255ae520a4020e6a8402c2af7cea136",
     "grade": false,
     "grade_id": "cell-e35a34e25768cbb6",
     "locked": true,
     "schema_version": 3,
     "solution": false,
     "task": false
    }
   },
   "source": [
    "## Hints\n",
    "This assignment is long. You have a big team. Reduce the assignment by getting individuals to work on portions of it, they are intentionally loosley coupled and most of your work does not need to happen on the full `DataFrame` until the end.\n",
    "\n",
    "Also, free riders who don't do their work exist. You unfortunatly have to deal what that through social protocols, this is a team effort. I recommend meeting up on Monday at the latest to determine who didn't get things done so you can recover before the deadline.\n",
    "\n",
    "The person in your group who has the last name closest to the beginning of the alphabet should hand in the assignment. It should include a list of the uniqunames of everyone in your group.\n",
    "\n",
    "Finally, all of these questions assume you have some reasonably cleaned `DataFrame` from Assignment 4, so feel free to reuse that cleaning code here."
   ]
  },
  {
   "cell_type": "markdown",
   "metadata": {
    "deletable": false,
    "editable": false,
    "nbgrader": {
     "cell_type": "markdown",
     "checksum": "2ae6b4a2321a0e17507f8fb83af0022f",
     "grade": false,
     "grade_id": "cell-68b7cf791c796451",
     "locked": true,
     "schema_version": 3,
     "solution": false,
     "task": false
    }
   },
   "source": [
    "## Question 1 (10%)\n",
    "Write one line of python which returns a new `DataFrame` of the average and standard deviation of the fines assessed per state."
   ]
  },
  {
   "cell_type": "code",
   "execution_count": null,
   "metadata": {
    "deletable": false,
    "nbgrader": {
     "cell_type": "code",
     "checksum": "ed7b74c672ab72a20030fd5273ee3799",
     "grade": true,
     "grade_id": "cell-a7fb215d683df29a",
     "locked": false,
     "points": 8,
     "schema_version": 3,
     "solution": true,
     "task": false
    }
   },
   "outputs": [],
   "source": [
    "# YOUR CODE HERE\n",
    "raise NotImplementedError()"
   ]
  },
  {
   "cell_type": "markdown",
   "metadata": {
    "deletable": false,
    "editable": false,
    "nbgrader": {
     "cell_type": "markdown",
     "checksum": "ac0846ecbdab8f47cb108208921c5691",
     "grade": false,
     "grade_id": "cell-5033be585dd7b33c",
     "locked": true,
     "schema_version": 3,
     "solution": false,
     "task": false
    }
   },
   "source": [
    "## Question 2 (10%)\n",
    "Which parking meter makes the most money (total fine) for the city each year?"
   ]
  },
  {
   "cell_type": "code",
   "execution_count": null,
   "metadata": {
    "deletable": false,
    "nbgrader": {
     "cell_type": "code",
     "checksum": "178057ebb4dd9c0748003db3b45b9d9b",
     "grade": true,
     "grade_id": "cell-4d2c3be354c22bc3",
     "locked": false,
     "points": 8,
     "schema_version": 3,
     "solution": true,
     "task": false
    }
   },
   "outputs": [],
   "source": [
    "# YOUR CODE HERE\n",
    "raise NotImplementedError()"
   ]
  },
  {
   "cell_type": "markdown",
   "metadata": {
    "deletable": false,
    "editable": false,
    "nbgrader": {
     "cell_type": "markdown",
     "checksum": "1d203ac9ff66e0bf9b021e6937a6988f",
     "grade": false,
     "grade_id": "cell-cf518cfc6eb0912c",
     "locked": true,
     "schema_version": 3,
     "solution": false,
     "task": false
    }
   },
   "source": [
    "## Question 3 (10%)\n",
    "Create a `DataFrame` which compares the make of car versus the state and calculates the average and standard deviation of fines. What conclusions might you draw from this, if any?"
   ]
  },
  {
   "cell_type": "code",
   "execution_count": null,
   "metadata": {
    "deletable": false,
    "nbgrader": {
     "cell_type": "code",
     "checksum": "c44e8fd803a24e6585dd453a4a6faddd",
     "grade": true,
     "grade_id": "cell-ef7a6a84f23f7c3a",
     "locked": false,
     "points": 8,
     "schema_version": 3,
     "solution": true,
     "task": false
    }
   },
   "outputs": [],
   "source": [
    "# YOUR CODE HERE\n",
    "raise NotImplementedError()"
   ]
  },
  {
   "cell_type": "markdown",
   "metadata": {
    "deletable": false,
    "editable": false,
    "nbgrader": {
     "cell_type": "markdown",
     "checksum": "5a35cdb105399d4a65603cb79ca53235",
     "grade": false,
     "grade_id": "cell-85e732475714069a",
     "locked": true,
     "schema_version": 3,
     "solution": false,
     "task": false
    }
   },
   "source": [
    "## Question 4 (10%)\n",
    "My buddy says that they marked the wrong vehicle make on his ticket so he's going to get out of his fine! I think he's lying to me, but I know he's gotten tickets before. Write a query which will find any individuals in the dataset who have gotten tickets with two different makes of cars. How many people are in this set?"
   ]
  },
  {
   "cell_type": "code",
   "execution_count": null,
   "metadata": {
    "deletable": false,
    "nbgrader": {
     "cell_type": "code",
     "checksum": "f92e8b0ce3d3e50a52183baec404ce9d",
     "grade": true,
     "grade_id": "cell-851d9150369d593e",
     "locked": false,
     "points": 8,
     "schema_version": 3,
     "solution": true,
     "task": false
    }
   },
   "outputs": [],
   "source": [
    "# YOUR CODE HERE\n",
    "raise NotImplementedError()"
   ]
  },
  {
   "cell_type": "markdown",
   "metadata": {
    "deletable": false,
    "editable": false,
    "nbgrader": {
     "cell_type": "markdown",
     "checksum": "6be528232072bb351babaad33474706b",
     "grade": false,
     "grade_id": "cell-c0f131076ec52626",
     "locked": true,
     "schema_version": 3,
     "solution": false,
     "task": false
    }
   },
   "source": [
    "## Question 5 (10%)\n",
    "Someone told me that since Michigan is home to GM and Ford, domestic cars get smaller tickets written up. I wonder if this is true? Do cars which are from GM and Ford tend to get smaller fines and penalties (look at both) than those of Honda and Toyota?\n",
    "\n",
    "Note: this requires you to come up with some descision as to what is a GM/Ford make and what is a Honda/Toyota make. You can choose this in any reasonable way you would like to, justify your choices in your answer."
   ]
  },
  {
   "cell_type": "code",
   "execution_count": null,
   "metadata": {
    "deletable": false,
    "nbgrader": {
     "cell_type": "code",
     "checksum": "5dfad5296130fc4ac4c1cb6f7c9f1289",
     "grade": true,
     "grade_id": "cell-d41ba10a90ab4e67",
     "locked": false,
     "points": 8,
     "schema_version": 3,
     "solution": true,
     "task": false
    }
   },
   "outputs": [],
   "source": [
    "# YOUR CODE HERE\n",
    "raise NotImplementedError()"
   ]
  },
  {
   "cell_type": "markdown",
   "metadata": {
    "deletable": false,
    "editable": false,
    "nbgrader": {
     "cell_type": "markdown",
     "checksum": "79febddb990802da8b01a7bbf82d449c",
     "grade": false,
     "grade_id": "cell-b206921d8bc703ec",
     "locked": true,
     "schema_version": 3,
     "solution": false,
     "task": false
    }
   },
   "source": [
    "## Question 6 (5%)\n",
    "I work at 205 South State Street. Provide for me an annual breakdown of the number of tickets which are given out on this block each year in one `DataFrame`."
   ]
  },
  {
   "cell_type": "code",
   "execution_count": null,
   "metadata": {
    "deletable": false,
    "nbgrader": {
     "cell_type": "code",
     "checksum": "d41c9cf0f4297c4719b943bd3c16c0a1",
     "grade": true,
     "grade_id": "cell-618554888af56088",
     "locked": false,
     "points": 4,
     "schema_version": 3,
     "solution": true,
     "task": false
    }
   },
   "outputs": [],
   "source": [
    "# YOUR CODE HERE\n",
    "raise NotImplementedError()"
   ]
  },
  {
   "cell_type": "markdown",
   "metadata": {
    "deletable": false,
    "editable": false,
    "nbgrader": {
     "cell_type": "markdown",
     "checksum": "145a365f795ba0ac3824d8fac686e6c3",
     "grade": false,
     "grade_id": "cell-efbcc9ef078c5a3e",
     "locked": true,
     "schema_version": 3,
     "solution": false,
     "task": false
    }
   },
   "source": [
    "## Question 7 (5%)\n",
    "The license plate for my car is `DLT7389`. How much has my family generously contributed to the city of Ann Arbor in the form of fines?"
   ]
  },
  {
   "cell_type": "code",
   "execution_count": null,
   "metadata": {
    "deletable": false,
    "nbgrader": {
     "cell_type": "code",
     "checksum": "506d09dd389cb339dbccb96191688a18",
     "grade": true,
     "grade_id": "cell-89b87aa9f86fb5f4",
     "locked": false,
     "points": 4,
     "schema_version": 3,
     "solution": true,
     "task": false
    }
   },
   "outputs": [],
   "source": [
    "# YOUR CODE HERE\n",
    "raise NotImplementedError()"
   ]
  },
  {
   "cell_type": "markdown",
   "metadata": {
    "deletable": false,
    "editable": false,
    "nbgrader": {
     "cell_type": "markdown",
     "checksum": "f49694ba213277174ae65d00435c1506",
     "grade": false,
     "grade_id": "cell-dabe64d94ef759e1",
     "locked": true,
     "schema_version": 3,
     "solution": false,
     "task": false
    }
   },
   "source": [
    "## Question 8 (5%)\n",
    "In the whole dataset, who has contributed the most to the city of Ann Arbor in the form of fines?"
   ]
  },
  {
   "cell_type": "code",
   "execution_count": null,
   "metadata": {
    "deletable": false,
    "nbgrader": {
     "cell_type": "code",
     "checksum": "663acd16fb75fe204cc66929ad3a44a3",
     "grade": true,
     "grade_id": "cell-61e7e8e68c5cb021",
     "locked": false,
     "points": 4,
     "schema_version": 3,
     "solution": true,
     "task": false
    }
   },
   "outputs": [],
   "source": [
    "# YOUR CODE HERE\n",
    "raise NotImplementedError()"
   ]
  },
  {
   "cell_type": "markdown",
   "metadata": {
    "deletable": false,
    "editable": false,
    "nbgrader": {
     "cell_type": "markdown",
     "checksum": "8292269db97d97142e71cd103fd1caa6",
     "grade": false,
     "grade_id": "cell-94e81988ac1076d5",
     "locked": true,
     "schema_version": 3,
     "solution": false,
     "task": false
    }
   },
   "source": [
    "## Question 9 (15%)\n",
    "It would be useful to have a column in the dataset which is called `is_vanity` which would be a `1` if the plate number was from Michigan and a vanity plate, and would be a `0` if it were from Michigan but were not a vanity plate, or was `NaN` if the vehicle was not from Michigan. Create this column using your logic (or an improvement of it) from Assignment 4, and the `Series.extract()` function.\n",
    "\n",
    "Note: we **did not** cover this function in class, that's up to your group to figure out by reading the docs and experimenting!"
   ]
  },
  {
   "cell_type": "code",
   "execution_count": null,
   "metadata": {
    "deletable": false,
    "nbgrader": {
     "cell_type": "code",
     "checksum": "ec9710fc2eed946c97c7478c4c41cf02",
     "grade": true,
     "grade_id": "cell-9c49b297ab1444d0",
     "locked": false,
     "points": 12,
     "schema_version": 3,
     "solution": true,
     "task": false
    }
   },
   "outputs": [],
   "source": [
    "# YOUR CODE HERE\n",
    "raise NotImplementedError()"
   ]
  },
  {
   "cell_type": "markdown",
   "metadata": {
    "deletable": false,
    "editable": false,
    "nbgrader": {
     "cell_type": "markdown",
     "checksum": "117da33183056074a9bc32060bb4cb06",
     "grade": false,
     "grade_id": "cell-72ccbdea389ba7ba",
     "locked": true,
     "schema_version": 3,
     "solution": false,
     "task": false
    }
   },
   "source": [
    "## Question 10 (15%)\n",
    "Do you think that home game weekends generate more ticket revenue for the city or less? Using the Michigan football schedules from 2016 through 2019 calculate whether home game weekends have a different level of fines from away game weekends and report your results.\n",
    "\n",
    "Note: I'm expecting a statistical analysis, e.g. a t-test, for full points."
   ]
  },
  {
   "cell_type": "code",
   "execution_count": null,
   "metadata": {
    "deletable": false,
    "nbgrader": {
     "cell_type": "code",
     "checksum": "1aeeaf5bdf9f0815c8c964d1c1d8a9a2",
     "grade": true,
     "grade_id": "cell-28a389927380dfd8",
     "locked": false,
     "points": 12,
     "schema_version": 3,
     "solution": true,
     "task": false
    }
   },
   "outputs": [],
   "source": [
    "# YOUR CODE HERE\n",
    "raise NotImplementedError()"
   ]
  },
  {
   "cell_type": "markdown",
   "metadata": {
    "deletable": false,
    "editable": false,
    "nbgrader": {
     "cell_type": "markdown",
     "checksum": "b3081bfb2fb2c21c6f3d785a9ec6b613",
     "grade": false,
     "grade_id": "cell-ffd834525b45027a",
     "locked": true,
     "schema_version": 3,
     "solution": false,
     "task": false
    }
   },
   "source": [
    "## Question 11 (5% - hard)\n",
    "Create a \"map of shame\" whereby each of my (wife's!) tickets are mapped onto a map of Ann Arbor. You can use any API/method which you think is reasonable, just describe and justify it here. "
   ]
  },
  {
   "cell_type": "code",
   "execution_count": null,
   "metadata": {
    "deletable": false,
    "nbgrader": {
     "cell_type": "code",
     "checksum": "9d761117c992e491301c52fef3bba7f2",
     "grade": true,
     "grade_id": "cell-82f98515cab73f0b",
     "locked": false,
     "points": 4,
     "schema_version": 3,
     "solution": true,
     "task": false
    }
   },
   "outputs": [],
   "source": [
    "# YOUR CODE HERE\n",
    "raise NotImplementedError()"
   ]
  }
 ],
 "metadata": {
  "kernelspec": {
   "display_name": "Python 3",
   "language": "python",
   "name": "python3"
  },
  "language_info": {
   "codemirror_mode": {
    "name": "ipython",
    "version": 3
   },
   "file_extension": ".py",
   "mimetype": "text/x-python",
   "name": "python",
   "nbconvert_exporter": "python",
   "pygments_lexer": "ipython3",
   "version": "3.6.5"
  }
 },
 "nbformat": 4,
 "nbformat_minor": 4
}
